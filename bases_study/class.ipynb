{
 "cells": [
  {
   "cell_type": "markdown",
   "metadata": {},
   "source": [
    "르블랑과 카사딘 트위스티트페이트 모두 lol에서 기용되고 자주 사용되는 챔피언들이다.  챔피언이라는 공통점을 가지고 있지만 각각 다른 특성을 가지고있다.\n",
    "여기서 챔피언이라는 큰 개념? 범주를 일컫는 말이 클래스(Class)이다.  부류 라는 의미로 생각하자.\n",
    "\n",
    "사과는 클래스이고 내가 엊저녁에 먹은 사과 다섯 개 중에 두 번째 것이라고 콕 찍어서 말해주면 실체(instance)로 봐줄만하다.\n",
    "\n",
    "챔피언은 클래스이고 내가 몇주전에 29킬 했던 카사딘이라고 하면 실체로 봐줄만하다."
   ]
  },
  {
   "cell_type": "code",
   "execution_count": 7,
   "metadata": {},
   "outputs": [
    {
     "data": {
      "text/plain": [
       "'Lalala~'"
      ]
     },
     "execution_count": 7,
     "metadata": {},
     "output_type": "execute_result"
    }
   ],
   "source": [
    "class Singer:                      # 가수를 정의하겠느니라…\n",
    "     def sing(self):                # 노래하기 메서드\n",
    "            return \"Lalala~\"\n",
    "    \n",
    "taeji = Singer()                   # 태지를 만들어랏!\n",
    "taeji.sing()                       # 노래 한 곡 부탁해요~\n",
    "'Lalala~'"
   ]
  },
  {
   "cell_type": "markdown",
   "metadata": {},
   "source": [
    "클래스를 만들때는 위와 같이 class 클래스이름 : 형식으로 시작해서 그 다음부터 그 클래스의 성질이나 행동을 정의해주면 된다.\n",
    "둘째 줄에 함수가 정의되어있는데 이와 같이 클래스 내부에 정의된 함수를 매서드(method)라고 부른다.\n",
    "\n",
    "여기서 sing 메서드는 Singer라는 클래스가 하는 행동을 정의하고 있다. 그 다음에 taeji라는 객체(실체,instance)를 만들었다. \n",
    "객체,실체,instance이름 = 클래스()와 같이 만들면 된다.\n",
    "\n",
    "그 다음엔 taeji에게 노래를 시켜봤다. Singer클래스에 sing 메서드를 정의해줬기 때문에 Singer 클래스에 속한 taeji 객체도 sing메서드를 사용할수 있다.\n",
    "다시 말해서 Singer라는 클래스는 sing이라는 함수가 있어서 동작할 수 있으니까 taeji라는 Singer도 노래할수 있었다.\n",
    "이와 같이 어떤 객체의 메서드를 사용할 때는 객체.메서드 형식으로 해주면 된다."
   ]
  },
  {
   "cell_type": "code",
   "execution_count": 8,
   "metadata": {},
   "outputs": [
    {
     "data": {
      "text/plain": [
       "'Lalala~'"
      ]
     },
     "execution_count": 8,
     "metadata": {},
     "output_type": "execute_result"
    }
   ],
   "source": [
    "ricky_martin = Singer()\n",
    "ricky_martin.sing()"
   ]
  },
  {
   "cell_type": "markdown",
   "metadata": {},
   "source": [
    "실제 세계에 존재하는 실체(instance)를 객체(object)라고 하고, 객체들의 공통점을 나타낸 것이 (Class)이다.\n",
    "\n",
    "어떤 클래스를 만들려면 그 객체가 갖는 성질과 그 객체가 하는 행동을 정의해주면 된다."
   ]
  },
  {
   "cell_type": "code",
   "execution_count": 45,
   "metadata": {},
   "outputs": [],
   "source": [
    "class Champion:\n",
    "    hp = 200\n",
    "    mp = 100\n",
    "    speed = 10\n",
    "    \n",
    "    def attack(self):\n",
    "        return 'Jab!!!'\n",
    "    \n",
    "    def lvup(self):\n",
    "        self.hp += 50\n",
    "        self.mp += 30\n",
    "        self.speed += 5\n"
   ]
  },
  {
   "cell_type": "code",
   "execution_count": 46,
   "metadata": {},
   "outputs": [
    {
     "name": "stdout",
     "output_type": "stream",
     "text": [
      "100\n"
     ]
    },
    {
     "data": {
      "text/plain": [
       "'Jab!!!'"
      ]
     },
     "execution_count": 46,
     "metadata": {},
     "output_type": "execute_result"
    }
   ],
   "source": [
    "kassadin = Champion()\n",
    "reblanc = Champion()\n",
    "\n",
    "print(kassadin.mp)\n",
    "reblanc.attack()"
   ]
  },
  {
   "cell_type": "markdown",
   "metadata": {},
   "source": [
    "이렇게 객체는 클래스에서 정의해준 변수와 메서드를 그대로 갖게 된다. 여기서 주의할점은 메서드를 정의할때와 사용할때는 차이가 있다는 것이다.\n",
    "Champion 클래스를 정의할 때 def attack(self):와 같이 self라는 인자를 받았는데, reblanc 객체의 메서드를 호출할때는 그냥 attack()라고 했다.\n",
    "self라는 것은 그 클래스의 객체를 가르키는데 kassadin과 reblanc 둘 다 같은 attack 메서드를 가지기 때문에 서로 구별하기 위해서 사용한것이다.\n",
    "한 마디로 메서드를 정의할때는 거의 항상 self라는 인자를 써준다고 생각하자."
   ]
  },
  {
   "cell_type": "code",
   "execution_count": 50,
   "metadata": {},
   "outputs": [
    {
     "name": "stdout",
     "output_type": "stream",
     "text": [
      "250\n",
      "130\n"
     ]
    }
   ],
   "source": [
    "tf = Champion()\n",
    "tf.attack()\n",
    "tf.lvup()\n",
    "print(tf.hp)\n",
    "print(tf.mp)\n",
    "#lvup()함수를 실행하자 hp와 mp가 증가한것을 확인 할 수 있다."
   ]
  },
  {
   "cell_type": "markdown",
   "metadata": {},
   "source": [
    "상속(inheritance)이란 어떤 클래스가 다른 클래스의 성질을 물려받는 것을 말한다.\n",
    "어떤 클래스를 만들때 처음부터 모든 것을 새로 만들 필요없이, 핵심적인 성질을 갖고 있는 다른 클래스로부터 상속을 받아서 만들면 쉽게 만들수 있다."
   ]
  },
  {
   "cell_type": "code",
   "execution_count": 51,
   "metadata": {},
   "outputs": [],
   "source": [
    "class Person:\n",
    "    # 눈 두 개, 코 하나, 입 하나...\n",
    "    eyes = 2\n",
    "    nose = 1\n",
    "    mouth = 1\n",
    "    ears = 2\n",
    "    arms = 2\n",
    "    legs = 2\n",
    "\n",
    "    # 먹고 자고 이야기하고...\n",
    "    def eat(self):\n",
    "        print ('얌냠...')\n",
    "\n",
    "    def sleep(self):\n",
    "        print ('쿨쿨...')\n",
    "\n",
    "    def talk(self):\n",
    "        print ('주절주절...')"
   ]
  },
  {
   "cell_type": "markdown",
   "metadata": {},
   "source": [
    "위의 Person이라는 클래스는 보통사람을 나타낸 클래스다. \n",
    "새로 학생,직장인,여자,남자등을 만든다고 했을때 그들은 모두 사람이므로 Person클래스의 속성을 모두가진다.\n",
    "이럴때 상속을 이용하면 손쉽게 새로운 클래스를 만들 수 있다"
   ]
  },
  {
   "cell_type": "code",
   "execution_count": 52,
   "metadata": {},
   "outputs": [],
   "source": [
    "class Student(Person):     # Person 클래스를 상속받음\n",
    "    def study(self):\n",
    "        print ('열공열공...')"
   ]
  },
  {
   "cell_type": "markdown",
   "metadata": {},
   "source": []
  }
 ],
 "metadata": {
  "language_info": {
   "name": "python"
  },
  "orig_nbformat": 4
 },
 "nbformat": 4,
 "nbformat_minor": 2
}
